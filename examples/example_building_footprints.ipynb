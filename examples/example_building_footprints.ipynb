{
 "cells": [
  {
   "cell_type": "markdown",
   "metadata": {},
   "source": [
    "# Download buildings from Microsoft"
   ]
  },
  {
   "cell_type": "markdown",
   "metadata": {},
   "source": [
    "This notebook works with the [Microsoft Building Footprint Dataset](https://github.com/microsoft/GlobalMLBuildingFootprints) to download building footprints for a given area of interest (AOI). I modiefied the [original notebook](https://github.com/victor-ka-ming-fung/GlobalMLBuildingFootprints/blob/main/examples/example_building_footprints.ipynb) to download the data to output a parquet file of a geodataframe of buildings, instead of GeoJSON."
   ]
  },
  {
   "cell_type": "code",
   "execution_count": null,
   "metadata": {},
   "outputs": [],
   "source": [
    "import pandas as pd\n",
    "import geopandas as gpd\n",
    "import shapely.geometry\n",
    "import mercantile\n",
    "from tqdm import tqdm"
   ]
  },
  {
   "attachments": {},
   "cell_type": "markdown",
   "metadata": {},
   "source": [
    "## Step 1 - Define our area of interest (AOI)\n",
    "\n",
    "We define our area of interest (or AOI) as a GeoJSON geometry, then use the `shapely` library to get the bounding box.\n",
    "\n",
    "**Note**: the coordinate reference system for the GeoJSON should be \"EPSG:4326\", i.e. in global lat/lon format."
   ]
  },
  {
   "cell_type": "code",
   "execution_count": null,
   "metadata": {},
   "outputs": [],
   "source": [
    "# Geometry copied from https://geojson.io\n",
    "aoi_geom = {\n",
    "    \"coordinates\": [\n",
    "        [\n",
    "            [-122.16484503187519, 47.69090474454916],\n",
    "            [-122.16484503187519, 47.6217555345674],\n",
    "            [-122.06529607517405, 47.6217555345674],\n",
    "            [-122.06529607517405, 47.69090474454916],\n",
    "            [-122.16484503187519, 47.69090474454916],\n",
    "        ]\n",
    "    ],\n",
    "    \"type\": \"Polygon\",\n",
    "}\n",
    "aoi_shape = shapely.geometry.shape(aoi_geom)\n",
    "minx, miny, maxx, maxy = aoi_shape.bounds\n",
    "\n",
    "output_fn = \"example_building_footprints.parquet\""
   ]
  },
  {
   "cell_type": "markdown",
   "metadata": {},
   "source": [
    "## Step 2 - Determine which tiles intersect our AOI"
   ]
  },
  {
   "cell_type": "code",
   "execution_count": null,
   "metadata": {},
   "outputs": [],
   "source": [
    "\"\"\"Get tiles for a given bounding box and zoom level\"\"\"\n",
    "quad_keys = set()\n",
    "for tile in list(mercantile.tiles(minx, miny, maxx, maxy, zooms=9)):\n",
    "    quad_keys.add(int(mercantile.quadkey(tile)))\n",
    "quad_keys = list(quad_keys)\n",
    "print(f\"The input area spans {len(quad_keys)} tiles: {quad_keys}\")"
   ]
  },
  {
   "attachments": {},
   "cell_type": "markdown",
   "metadata": {},
   "source": [
    "## Step 3 - Download the building footprints for each tile that intersects our AOI and crop the results\n",
    "\n",
    "This is where most of the magic happens. We download all the building footprints for each tile that intersects our AOI, then only keep the footprints that are _contained_ by our AOI.\n",
    "\n",
    "*Note*: this step might take awhile depending on how many tiles your AOI covers and how many buildings footprints are in those tiles."
   ]
  },
  {
   "cell_type": "code",
   "execution_count": null,
   "metadata": {},
   "outputs": [],
   "source": [
    "# read the quads catalog\n",
    "df = pd.read_csv(\n",
    "    \"https://minedbuildings.blob.core.windows.net/global-buildings/dataset-links.csv\"\n",
    ")\n",
    "\n",
    "# extract urls for the quads we want\n",
    "urls = df.pipe(lambda x: x[x[\"QuadKey\"].isin(quad_keys)])[\"Url\"].unique()\n",
    "\n",
    "# download the quads and read as one consolidated pandas dataframe\n",
    "buildings_df_list = [pd.read_json(url, lines=True) for url in tqdm(urls)]\n",
    "\n",
    "# concatenate the list of dataframes\n",
    "buildings_df = pd.concat(buildings_df_list)\n",
    "\n",
    "# concvert to geopandas dataframe\n",
    "buildings_gdf = (\n",
    "    buildings_df.pipe(\n",
    "        lambda x: gpd.GeoDataFrame(\n",
    "            data=x,\n",
    "            crs=4326,\n",
    "            geometry=x[\"geometry\"].apply(shapely.geometry.shape),\n",
    "        )\n",
    "    )\n",
    "    # retain the height information\n",
    "    .assign(\n",
    "        height_m=lambda x: x[\"properties\"].apply(\n",
    "            lambda p: p[\"height\"],\n",
    "        ),\n",
    "    )\n",
    "    # drop the raw column for height and type\n",
    "    .drop(\n",
    "        columns=[\n",
    "            \"properties\",\n",
    "            \"type\",\n",
    "        ],\n",
    "        errors=\"ignore\",\n",
    "    )\n",
    ")"
   ]
  },
  {
   "cell_type": "code",
   "execution_count": null,
   "metadata": {},
   "outputs": [],
   "source": [
    "# filter to buildings that intersect the AOI\n",
    "buildings_in_aoi_gdf = buildings_gdf[buildings_gdf.intersects(aoi_shape)]"
   ]
  },
  {
   "cell_type": "markdown",
   "metadata": {},
   "source": [
    "# Step 4 - Save the resulting footprints to a parquet file"
   ]
  },
  {
   "cell_type": "code",
   "execution_count": null,
   "metadata": {},
   "outputs": [],
   "source": [
    "# write to parquet\n",
    "buildings_in_aoi_gdf.to_parquet(output_fn)"
   ]
  },
  {
   "cell_type": "markdown",
   "metadata": {},
   "source": [
    "# Optional sense check"
   ]
  },
  {
   "cell_type": "code",
   "execution_count": null,
   "metadata": {},
   "outputs": [],
   "source": [
    "import folium\n",
    "\n",
    "m = buildings_in_aoi_gdf.explore(\n",
    "    attr=\"Google\",\n",
    "    tiles=\"https://mt1.google.com/vt/lyrs=s&x={x}&y={y}&z={z}\",\n",
    ")\n",
    "\n",
    "folium.TileLayer(\"OpenStreetMap\").add_to(m)\n",
    "\n",
    "folium.LayerControl().add_to(m)\n",
    "\n",
    "m"
   ]
  },
  {
   "cell_type": "code",
   "execution_count": null,
   "metadata": {},
   "outputs": [],
   "source": []
  }
 ],
 "metadata": {
  "kernelspec": {
   "display_name": ".venv",
   "language": "python",
   "name": "python3"
  },
  "language_info": {
   "codemirror_mode": {
    "name": "ipython",
    "version": 3
   },
   "file_extension": ".py",
   "mimetype": "text/x-python",
   "name": "python",
   "nbconvert_exporter": "python",
   "pygments_lexer": "ipython3",
   "version": "3.8.13"
  }
 },
 "nbformat": 4,
 "nbformat_minor": 2
}
